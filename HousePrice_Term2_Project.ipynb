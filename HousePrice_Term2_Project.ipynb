{
  "nbformat": 4,
  "nbformat_minor": 0,
  "metadata": {
    "colab": {
      "name": "HousePrice_Term2_Project.ipynb",
      "provenance": [],
      "private_outputs": true,
      "collapsed_sections": [],
      "authorship_tag": "ABX9TyO0o/Ab3UZgRGZwn1IxKNFA",
      "include_colab_link": true
    },
    "kernelspec": {
      "name": "python3",
      "display_name": "Python 3"
    }
  },
  "cells": [
    {
      "cell_type": "markdown",
      "metadata": {
        "id": "view-in-github",
        "colab_type": "text"
      },
      "source": [
        "<a href=\"https://colab.research.google.com/github/PreethikaShankar/INSAID_Term2_Files/blob/master/HousePrice_Term2_Project.ipynb\" target=\"_parent\"><img src=\"https://colab.research.google.com/assets/colab-badge.svg\" alt=\"Open In Colab\"/></a>"
      ]
    },
    {
      "cell_type": "code",
      "metadata": {
        "id": "mtyrwVKwmPE_",
        "colab_type": "code",
        "colab": {}
      },
      "source": [
        "from __future__ import absolute_import, division, print_function, unicode_literals\n",
        "try:\n",
        "  # %tensorflow_version only exists in Colab.\n",
        "  %tensorflow_version 2.x\n",
        "except Exception:\n",
        "  pass\n",
        "import tensorflow as tf\n",
        "\n",
        "\n",
        "import tensorflow_datasets as tfds"
      ],
      "execution_count": 0,
      "outputs": []
    },
    {
      "cell_type": "code",
      "metadata": {
        "id": "IUr9yuxZnmnp",
        "colab_type": "code",
        "colab": {}
      },
      "source": [
        "from PIL import Image\n",
        "import requests\n",
        "from io import BytesIO\n",
        "import matplotlib.pyplot as plt\n",
        "import numpy as np\n",
        "import pandas as pd\n",
        "import warnings\n",
        "from bs4 import BeautifulSoup\n",
        "from nltk.corpus import stopwords\n",
        "from nltk.tokenize import word_tokenize\n",
        "import nltk\n",
        "import math\n",
        "import time\n",
        "import re\n",
        "import os\n",
        "import seaborn as sns\n",
        "from collections import Counter\n",
        "from sklearn.feature_extraction.text import CountVectorizer\n",
        "from sklearn.feature_extraction.text import TfidfVectorizer\n",
        "from sklearn.metrics.pairwise import cosine_similarity  \n",
        "from sklearn.metrics import pairwise_distances\n",
        "from matplotlib import gridspec\n",
        "from scipy.sparse import hstack\n",
        "import plotly\n",
        "import plotly.figure_factory as ff\n",
        "from plotly.graph_objs import Scatter, Layout\n",
        "\n",
        "plotly.offline.init_notebook_mode(connected=True)\n",
        "warnings.filterwarnings(\"ignore\")"
      ],
      "execution_count": 0,
      "outputs": []
    },
    {
      "cell_type": "code",
      "metadata": {
        "colab_type": "code",
        "id": "MCJtdzg5A2TY",
        "colab": {}
      },
      "source": [
        "hp_data = pd.read_csv(\"https://raw.githubusercontent.com/insaid2018/Term-2/master/Projects/house_data.csv\")\n",
        "hp_data.shape"
      ],
      "execution_count": 0,
      "outputs": []
    },
    {
      "cell_type": "code",
      "metadata": {
        "id": "EFpf4ROMh4c0",
        "colab_type": "code",
        "colab": {}
      },
      "source": [
        "hp_data.isnull().sum()"
      ],
      "execution_count": 0,
      "outputs": []
    },
    {
      "cell_type": "code",
      "metadata": {
        "id": "2UaLhjpnk9Qq",
        "colab_type": "code",
        "colab": {}
      },
      "source": [
        "hp_data['SalePrice'].describe()"
      ],
      "execution_count": 0,
      "outputs": []
    },
    {
      "cell_type": "code",
      "metadata": {
        "id": "UL8llY99lTFw",
        "colab_type": "code",
        "colab": {}
      },
      "source": [
        "plt.hist(hp_data['SalePrice'])\n",
        "plt.show()\n",
        "print (\"Skew of SalePrice:\", hp_data['SalePrice'].skew())"
      ],
      "execution_count": 0,
      "outputs": []
    },
    {
      "cell_type": "code",
      "metadata": {
        "id": "R3cYJ3PRldPd",
        "colab_type": "code",
        "colab": {}
      },
      "source": [
        "hp_data['LT_SalePrice'] = np.log(hp_data['SalePrice']+1)\n",
        "plt.hist(hp_data['LT_SalePrice'], color='red')\n",
        "plt.show()\n",
        "print (\"Skew of Log Transformed SalePrice:\", hp_data['LT_SalePrice'].skew())"
      ],
      "execution_count": 0,
      "outputs": []
    },
    {
      "cell_type": "code",
      "metadata": {
        "id": "b9OW0b4OlnE6",
        "colab_type": "code",
        "colab": {}
      },
      "source": [
        "hp_data.select_dtypes(include=[np.number]).columns.values"
      ],
      "execution_count": 0,
      "outputs": []
    },
    {
      "cell_type": "code",
      "metadata": {
        "id": "r4zRvgjDmQMd",
        "colab_type": "code",
        "colab": {}
      },
      "source": [
        "zero_feat=[  'MSSubClass', 'LotFrontage', 'LotArea', 'OverallQual',\n",
        "       'OverallCond', 'YearBuilt', 'YearRemodAdd', 'MasVnrArea',\n",
        "       'BsmtFinSF1', 'BsmtFinSF2', 'BsmtUnfSF', 'TotalBsmtSF', '1stFlrSF',\n",
        "       '2ndFlrSF', 'LowQualFinSF', 'GrLivArea', 'BsmtFullBath',\n",
        "       'BsmtHalfBath', 'FullBath', 'HalfBath', 'BedroomAbvGr',\n",
        "       'KitchenAbvGr', 'TotRmsAbvGrd', 'Fireplaces', 'GarageYrBlt',\n",
        "       'GarageCars', 'GarageArea', 'WoodDeckSF', 'OpenPorchSF',\n",
        "       'EnclosedPorch', '3SsnPorch', 'ScreenPorch', 'PoolArea', 'MiscVal',\n",
        "       'MoSold', 'YrSold','LT_SalePrice']\n",
        "out_feat=['SalePrice']"
      ],
      "execution_count": 0,
      "outputs": []
    },
    {
      "cell_type": "code",
      "metadata": {
        "id": "GpIMIsLRmT_G",
        "colab_type": "code",
        "colab": {}
      },
      "source": [
        "def correlation_heatmap(hp_data):\n",
        "    correlations = hp_data.corr()\n",
        "\n",
        "    fig, ax = plt.subplots(figsize=(10,10))\n",
        "    sns.heatmap(correlations, vmax=1.0, center=0, fmt='.2f',\n",
        "                square=True, linewidths=.5,  cbar_kws={\"shrink\": .70})\n",
        "    plt.show();\n",
        "    \n",
        "correlation_heatmap(hp_data)"
      ],
      "execution_count": 0,
      "outputs": []
    },
    {
      "cell_type": "code",
      "metadata": {
        "id": "CfI2C89UmnIy",
        "colab_type": "code",
        "colab": {}
      },
      "source": [
        "#Removing the null values\n",
        "null_values = pd.DataFrame(hp_data.isnull().sum().sort_values(ascending=False)[:10])\n",
        "null_values.index.name = 'Feature'\n",
        "null_values.columns = ['Number of Null Values']\n",
        "null_values"
      ],
      "execution_count": 0,
      "outputs": []
    },
    {
      "cell_type": "code",
      "metadata": {
        "id": "r9l4HOPImuhH",
        "colab_type": "code",
        "colab": {}
      },
      "source": [
        "nan_rows=hp_data.iloc[np.where(hp_data.isnull())]\n",
        "print(nan_rows)"
      ],
      "execution_count": 0,
      "outputs": []
    },
    {
      "cell_type": "code",
      "metadata": {
        "id": "JBcCfi_wmzlB",
        "colab_type": "code",
        "colab": {}
      },
      "source": [
        "hp_data.select_dtypes(exclude=[np.number]).columns.values"
      ],
      "execution_count": 0,
      "outputs": []
    },
    {
      "cell_type": "code",
      "metadata": {
        "id": "CThskHEEm__y",
        "colab_type": "code",
        "colab": {}
      },
      "source": [
        "cat_feat=['MSZoning', 'Street', 'Alley', 'LotShape', 'LandContour',\n",
        "       'Utilities', 'LotConfig', 'LandSlope', 'Neighborhood',\n",
        "       'Condition1', 'Condition2', 'BldgType', 'HouseStyle', 'RoofStyle',\n",
        "       'RoofMatl', 'Exterior1st', 'Exterior2nd', 'MasVnrType',\n",
        "       'ExterQual', 'ExterCond', 'Foundation', 'BsmtQual', 'BsmtCond',\n",
        "       'BsmtExposure', 'BsmtFinType1', 'BsmtFinType2', 'Heating',\n",
        "       'HeatingQC', 'CentralAir', 'Electrical', 'KitchenQual',\n",
        "       'Functional', 'FireplaceQu', 'GarageType', 'GarageFinish',\n",
        "       'GarageQual', 'GarageCond', 'PavedDrive', 'PoolQC', 'Fence',\n",
        "       'MiscFeature', 'SaleType', 'SaleCondition']"
      ],
      "execution_count": 0,
      "outputs": []
    },
    {
      "cell_type": "code",
      "metadata": {
        "id": "Y5GGGJernCkb",
        "colab_type": "code",
        "colab": {}
      },
      "source": [
        "hp_data.columns"
      ],
      "execution_count": 0,
      "outputs": []
    },
    {
      "cell_type": "code",
      "metadata": {
        "id": "iQfCTEA7nMCY",
        "colab_type": "code",
        "colab": {}
      },
      "source": [
        "data = hp_data.select_dtypes(include=[np.number]).interpolate().dropna()"
      ],
      "execution_count": 0,
      "outputs": []
    },
    {
      "cell_type": "code",
      "metadata": {
        "id": "yxghpyVBnPqJ",
        "colab_type": "code",
        "colab": {}
      },
      "source": [
        "from sklearn.ensemble import IsolationForest\n",
        "\n",
        "clf = IsolationForest(max_samples = 100, random_state = 42)\n",
        "clf.fit(data)\n",
        "y_noano = clf.predict(data)\n",
        "y_noano = pd.DataFrame(y_noano, columns = ['Top'])\n",
        "y_noano[y_noano['Top'] == 1].index.values\n",
        "\n",
        "data = data.iloc[y_noano[y_noano['Top'] == 1].index.values]\n",
        "data.reset_index(drop = True, inplace = True)\n",
        "print(\"Number of Outliers:\", y_noano[y_noano['Top'] == -1].shape[0])\n",
        "print(\"Number of rows without outliers:\", data.shape[0])"
      ],
      "execution_count": 0,
      "outputs": []
    },
    {
      "cell_type": "code",
      "metadata": {
        "id": "7WBnQUxVnUdN",
        "colab_type": "code",
        "colab": {}
      },
      "source": [
        "data.head(5)"
      ],
      "execution_count": 0,
      "outputs": []
    },
    {
      "cell_type": "code",
      "metadata": {
        "id": "G7R5XvfHnWvM",
        "colab_type": "code",
        "colab": {}
      },
      "source": [
        "import warnings\n",
        "warnings.filterwarnings('ignore')\n",
        "from sklearn.preprocessing import MinMaxScaler\n",
        "\n",
        "col_train = list(data.columns)\n",
        "col_train_bis = list(data.columns)\n",
        "\n",
        "col_train_bis.remove('SalePrice')\n",
        "\n",
        "mat_train = np.matrix(data)\n",
        "#mat_test  = np.matrix(test_)\n",
        "mat_new = np.matrix(data.drop('SalePrice',axis = 1))\n",
        "mat_y = np.array(data.SalePrice).reshape((1325,1))\n",
        "\n",
        "prepro_y = MinMaxScaler()\n",
        "prepro_y.fit(mat_y)\n",
        "\n",
        "prepro = MinMaxScaler()\n",
        "prepro.fit(mat_train)\n",
        "\n",
        "prepro_test = MinMaxScaler()\n",
        "prepro_test.fit(mat_new)\n",
        "\n",
        "train = pd.DataFrame(prepro.transform(mat_train),columns = col_train)\n",
        "#test  = pd.DataFrame(prepro_test.transform(mat_test),columns = col_train_bis)\n",
        "\n",
        "train.head()"
      ],
      "execution_count": 0,
      "outputs": []
    },
    {
      "cell_type": "code",
      "metadata": {
        "id": "lEv68sk4ndNZ",
        "colab_type": "code",
        "colab": {}
      },
      "source": [
        "X = hp_data.drop([\"SalePrice\",\"LT_SalePrice\"], axis=1)"
      ],
      "execution_count": 0,
      "outputs": []
    },
    {
      "cell_type": "code",
      "metadata": {
        "id": "t6-j09PbntNC",
        "colab_type": "code",
        "colab": {}
      },
      "source": [
        "print(type(X))\n",
        "print(X.shape)"
      ],
      "execution_count": 0,
      "outputs": []
    },
    {
      "cell_type": "code",
      "metadata": {
        "id": "78QbBHsSoQeL",
        "colab_type": "code",
        "colab": {}
      },
      "source": [
        "y = hp_data[\"LT_SalePrice\"]\n",
        "y.head()"
      ],
      "execution_count": 0,
      "outputs": []
    },
    {
      "cell_type": "code",
      "metadata": {
        "id": "v_0YqWYDoW2w",
        "colab_type": "code",
        "colab": {}
      },
      "source": [
        "from sklearn.model_selection import train_test_split\n",
        "\n",
        "def split(X,y):\n",
        "    return train_test_split(X, y, test_size=0.20, random_state=1)"
      ],
      "execution_count": 0,
      "outputs": []
    },
    {
      "cell_type": "code",
      "metadata": {
        "id": "B-Tq19ZsoaBJ",
        "colab_type": "code",
        "colab": {}
      },
      "source": [
        "X_train, X_test, y_train, y_test=split(X,y)\n",
        "print('Train cases as below')\n",
        "print('X_train shape: ',X_train.shape)\n",
        "print('y_train shape: ',y_train.shape)\n",
        "print('\\nTest cases as below')\n",
        "print('X_test shape: ',X_test.shape)\n",
        "print('y_test shape: ',y_test.shape)"
      ],
      "execution_count": 0,
      "outputs": []
    },
    {
      "cell_type": "code",
      "metadata": {
        "id": "gcxXwhYuokZ5",
        "colab_type": "code",
        "colab": {}
      },
      "source": [
        "X_train=X_train.fillna(0)\n",
        "nan_rows=X_train.iloc[np.where(X_train.isnull())]\n",
        "print(nan_rows)"
      ],
      "execution_count": 0,
      "outputs": []
    },
    {
      "cell_type": "code",
      "metadata": {
        "id": "4p8KUZ94o6Ga",
        "colab_type": "code",
        "colab": {}
      },
      "source": [
        "X_test=X_test.fillna(0)\n",
        "nan_rows=X_test.iloc[np.where(X_test.isnull())]\n",
        "print(nan_rows)"
      ],
      "execution_count": 0,
      "outputs": []
    },
    {
      "cell_type": "code",
      "metadata": {
        "id": "shVIeL9qo85s",
        "colab_type": "code",
        "colab": {}
      },
      "source": [
        "zero_feat=['MSSubClass', 'LotFrontage', 'LotArea', 'OverallQual',\n",
        "       'OverallCond', 'YearBuilt', 'YearRemodAdd', 'MasVnrArea',\n",
        "       'BsmtFinSF1', 'BsmtFinSF2', 'BsmtUnfSF', 'TotalBsmtSF', '1stFlrSF',\n",
        "       '2ndFlrSF', 'LowQualFinSF', 'GrLivArea', 'BsmtFullBath',\n",
        "       'BsmtHalfBath', 'FullBath', 'HalfBath', 'BedroomAbvGr',\n",
        "       'KitchenAbvGr', 'TotRmsAbvGrd', 'Fireplaces', 'GarageYrBlt',\n",
        "       'GarageCars', 'GarageArea', 'WoodDeckSF', 'OpenPorchSF',\n",
        "       'EnclosedPorch', '3SsnPorch', 'ScreenPorch', 'PoolArea', 'MiscVal',\n",
        "       'MoSold', 'YrSold']"
      ],
      "execution_count": 0,
      "outputs": []
    },
    {
      "cell_type": "code",
      "metadata": {
        "id": "Djsy9iV2o-IV",
        "colab_type": "code",
        "colab": {}
      },
      "source": [
        "from sklearn.preprocessing import StandardScaler\n",
        "import warnings\n",
        "warnings.filterwarnings(\"ignore\")\n",
        "\n",
        "def numerical_vectorizations(m,o):\n",
        "    \n",
        "    scalars = StandardScaler()\n",
        "    scalars.fit(m.values.reshape(-1,1)) \n",
        "    print(f\"Mean : {scalars.mean_[0]}, Standard deviation : {np.sqrt(scalars.var_[0])}\")\n",
        "\n",
        "    standardized_train = scalars.transform(m.values.reshape(-1, 1))\n",
        "    standardized_test = scalars.transform(o.values.reshape(-1, 1))\n",
        "    return standardized_train,standardized_test"
      ],
      "execution_count": 0,
      "outputs": []
    },
    {
      "cell_type": "code",
      "metadata": {
        "id": "c4T1Qbu-pApA",
        "colab_type": "code",
        "colab": {}
      },
      "source": [
        "std_train_1 ,std_test_1 = numerical_vectorizations(X_train['MSSubClass'],X_test['MSSubClass'])\n",
        "std_train_2 ,std_test_2 = numerical_vectorizations(X_train['LotFrontage'],X_test['LotFrontage'])\n",
        "std_train_3 ,std_test_3 = numerical_vectorizations(X_train['LotArea'],X_test['LotArea'])\n",
        "std_train_4 ,std_test_4 = numerical_vectorizations(X_train['OverallQual'],X_test['OverallQual'])\n",
        "std_train_5 ,std_test_5 = numerical_vectorizations(X_train['OverallCond'],X_test['OverallCond'])\n",
        "std_train_6 ,std_test_6 = numerical_vectorizations(X_train['YearBuilt'],X_test['YearBuilt'])\n",
        "std_train_7 ,std_test_7 = numerical_vectorizations(X_train['YearRemodAdd'],X_test['YearRemodAdd'])\n",
        "std_train_8 ,std_test_8 = numerical_vectorizations(X_train['MasVnrArea'],X_test['MasVnrArea'])\n",
        "std_train_9 ,std_test_9 = numerical_vectorizations(X_train['BsmtFinSF1'],X_test['BsmtFinSF1'])\n",
        "std_train_10 ,std_test_10 = numerical_vectorizations(X_train['BsmtFinSF2'],X_test['BsmtFinSF2'])\n",
        "std_train_11 ,std_test_11 = numerical_vectorizations(X_train['BsmtUnfSF'],X_test['BsmtUnfSF'])\n",
        "std_train_12 ,std_test_12 = numerical_vectorizations(X_train['TotalBsmtSF'],X_test['TotalBsmtSF'])\n",
        "std_train_13 ,std_test_13 = numerical_vectorizations(X_train['1stFlrSF'],X_test['1stFlrSF'])\n",
        "std_train_14 ,std_test_14 = numerical_vectorizations(X_train['2ndFlrSF'],X_test['2ndFlrSF'])\n",
        "std_train_15 ,std_test_15 = numerical_vectorizations(X_train['LowQualFinSF'],X_test['LowQualFinSF'])\n",
        "std_train_16 ,std_test_16 = numerical_vectorizations(X_train['GrLivArea'],X_test['GrLivArea'])\n",
        "std_train_17 ,std_test_17 = numerical_vectorizations(X_train['BsmtFullBath'],X_test['BsmtFullBath'])\n",
        "std_train_18 ,std_test_18 = numerical_vectorizations(X_train['BsmtHalfBath'],X_test['BsmtHalfBath'])\n",
        "std_train_19 ,std_test_19 = numerical_vectorizations(X_train['FullBath'],X_test['FullBath'])\n",
        "std_train_20 ,std_test_20 = numerical_vectorizations(X_train['HalfBath'],X_test['HalfBath'])\n",
        "std_train_21 ,std_test_21 = numerical_vectorizations(X_train['BedroomAbvGr'],X_test['BedroomAbvGr'])\n",
        "std_train_22 ,std_test_22 = numerical_vectorizations(X_train['KitchenAbvGr'],X_test['KitchenAbvGr'])\n",
        "std_train_23 ,std_test_23 = numerical_vectorizations(X_train['TotRmsAbvGrd'],X_test['TotRmsAbvGrd'])\n",
        "std_train_24 ,std_test_24 = numerical_vectorizations(X_train['Fireplaces'],X_test['Fireplaces'])\n",
        "std_train_25 ,std_test_25 = numerical_vectorizations(X_train['GarageYrBlt'],X_test['GarageYrBlt'])\n",
        "std_train_26 ,std_test_26 = numerical_vectorizations(X_train['GarageCars'],X_test['GarageCars'])\n",
        "std_train_27 ,std_test_27 = numerical_vectorizations(X_train['GarageArea'],X_test['GarageArea'])\n",
        "std_train_28 ,std_test_28 = numerical_vectorizations(X_train['WoodDeckSF'],X_test['WoodDeckSF'])\n",
        "std_train_29 ,std_test_29 = numerical_vectorizations(X_train['OpenPorchSF'],X_test['OpenPorchSF'])\n",
        "std_train_30 ,std_test_30 = numerical_vectorizations(X_train['EnclosedPorch'],X_test['EnclosedPorch'])\n",
        "std_train_31 ,std_test_31 = numerical_vectorizations(X_train['3SsnPorch'],X_test['3SsnPorch'])\n",
        "std_train_32 ,std_test_32 = numerical_vectorizations(X_train['ScreenPorch'],X_test['ScreenPorch'])\n",
        "std_train_33 ,std_test_33 = numerical_vectorizations(X_train['PoolArea'],X_test['PoolArea'])\n",
        "std_train_34 ,std_test_34 = numerical_vectorizations(X_train['MiscVal'],X_test['MiscVal'])\n",
        "std_train_35 ,std_test_35 = numerical_vectorizations(X_train['MoSold'],X_test['MoSold'])\n",
        "std_train_36 ,std_test_36 = numerical_vectorizations(X_train['YrSold'],X_test['YrSold'])"
      ],
      "execution_count": 0,
      "outputs": []
    },
    {
      "cell_type": "code",
      "metadata": {
        "id": "pbNZ9hTBpD0J",
        "colab_type": "code",
        "colab": {}
      },
      "source": [
        "std_train_36.shape ,std_test_36.shape"
      ],
      "execution_count": 0,
      "outputs": []
    },
    {
      "cell_type": "code",
      "metadata": {
        "id": "D3-9IvSnpMFc",
        "colab_type": "code",
        "colab": {}
      },
      "source": [
        "cat_feat=['MSZoning', 'Street', 'Alley', 'LotShape', 'LandContour',\n",
        "       'Utilities', 'LotConfig', 'LandSlope', 'Neighborhood',\n",
        "       'Condition1', 'Condition2', 'BldgType', 'HouseStyle', 'RoofStyle',\n",
        "       'RoofMatl', 'Exterior1st', 'Exterior2nd', 'MasVnrType',\n",
        "       'ExterQual', 'ExterCond', 'Foundation', 'BsmtQual', 'BsmtCond',\n",
        "       'BsmtExposure', 'BsmtFinType1', 'BsmtFinType2', 'Heating',\n",
        "       'HeatingQC', 'CentralAir', 'Electrical', 'KitchenQual',\n",
        "       'Functional', 'FireplaceQu', 'GarageType', 'GarageFinish',\n",
        "       'GarageQual', 'GarageCond', 'PavedDrive', 'PoolQC', 'Fence',\n",
        "       'MiscFeature', 'SaleType', 'SaleCondition']"
      ],
      "execution_count": 0,
      "outputs": []
    },
    {
      "cell_type": "code",
      "metadata": {
        "id": "4CZRH3dCpOfm",
        "colab_type": "code",
        "colab": {}
      },
      "source": [
        "for i in cat_feat:\n",
        "    X_train[i]=X_train[i].replace(0,'')"
      ],
      "execution_count": 0,
      "outputs": []
    },
    {
      "cell_type": "code",
      "metadata": {
        "id": "8D1P4cJHpQP_",
        "colab_type": "code",
        "colab": {}
      },
      "source": [
        "for i in cat_feat:\n",
        "    X_test[i]=X_test[i].replace(0,'')"
      ],
      "execution_count": 0,
      "outputs": []
    },
    {
      "cell_type": "code",
      "metadata": {
        "id": "NByiZnwCpSA5",
        "colab_type": "code",
        "colab": {}
      },
      "source": [
        "for i in X_train['MSZoning']:\n",
        "    if i=='C (all)':\n",
        "        X_train['MSZoning']=X_train['MSZoning'].replace(i,'all')"
      ],
      "execution_count": 0,
      "outputs": []
    },
    {
      "cell_type": "code",
      "metadata": {
        "id": "_7fHJDdypVJK",
        "colab_type": "code",
        "colab": {}
      },
      "source": [
        "from collections import Counter\n",
        "def categorical_vectorization(m,o):\n",
        "    \n",
        "    \n",
        "    my_counter = Counter()\n",
        "    for word in m.values:\n",
        "        my_counter.update(str(word).split())\n",
        "    category_dict = dict(my_counter)\n",
        "    sorted_dict = dict(sorted(category_dict.items(), key=lambda kv: kv[1]))\n",
        "    \n",
        "    ## we use count vectorizer to convert the values into one hot encoded features\n",
        "    vectorizer = CountVectorizer(vocabulary=list(sorted_dict.keys()), lowercase=False, binary=True)\n",
        "    vectorizer.fit(m.values)\n",
        "    print(vectorizer.get_feature_names())\n",
        "    \n",
        "    one_hot_train = vectorizer.transform(m.values)\n",
        "    one_hot_test = vectorizer.transform(o.values)\n",
        "    return one_hot_train, one_hot_test"
      ],
      "execution_count": 0,
      "outputs": []
    },
    {
      "cell_type": "code",
      "metadata": {
        "id": "KPuBEPPhpWX9",
        "colab_type": "code",
        "colab": {}
      },
      "source": [
        "std_train_37 ,std_test_37 = categorical_vectorization(X_train['MSZoning'],X_test['MSZoning'])\n",
        "std_train_38 ,std_test_38 = categorical_vectorization(X_train['Street'],X_test['Street'])\n",
        "std_train_39 ,std_test_39 = categorical_vectorization(X_train['Alley'],X_test['Alley'])\n",
        "std_train_40 ,std_test_40 = categorical_vectorization(X_train['LotShape'],X_test['LotShape'])\n",
        "std_train_41 ,std_test_41 = categorical_vectorization(X_train['LandContour'],X_test['LandContour'])\n",
        "std_train_42 ,std_test_42 = categorical_vectorization(X_train['Utilities'],X_test['Utilities'])\n",
        "std_train_43 ,std_test_43 = categorical_vectorization(X_train['LotConfig'],X_test['LotConfig'])\n",
        "std_train_44 ,std_test_44 = categorical_vectorization(X_train['LandSlope'],X_test['LandSlope'])\n",
        "std_train_45 ,std_test_45 = categorical_vectorization(X_train['Neighborhood'],X_test['Neighborhood'])\n",
        "std_train_46 ,std_test_46 = categorical_vectorization(X_train['Condition1'],X_test['Condition1'])\n",
        "std_train_47 ,std_test_47 = categorical_vectorization(X_train['Condition2'],X_test['Condition2'])\n",
        "std_train_48 ,std_test_48 = categorical_vectorization(X_train['BldgType'],X_test['BldgType'])\n",
        "std_train_49 ,std_test_49 = categorical_vectorization(X_train['HouseStyle'],X_test['HouseStyle'])\n",
        "std_train_50 ,std_test_50 = categorical_vectorization(X_train['RoofStyle'],X_test['RoofStyle'])\n",
        "std_train_51 ,std_test_51 = categorical_vectorization(X_train['RoofMatl'],X_test['RoofMatl'])\n",
        "std_train_52 ,std_test_52 = categorical_vectorization(X_train['Exterior1st'],X_test['Exterior1st'])\n",
        "std_train_53 ,std_test_53 = categorical_vectorization(X_train['Exterior2nd'],X_test['Exterior2nd'])\n",
        "std_train_54 ,std_test_54 = categorical_vectorization(X_train['MasVnrType'],X_test['MasVnrType'])\n",
        "std_train_55 ,std_test_55 = categorical_vectorization(X_train['ExterQual'],X_test['ExterQual'])\n",
        "std_train_56 ,std_test_56 = categorical_vectorization(X_train['ExterCond'],X_test['ExterCond'])\n",
        "std_train_57 ,std_test_57 = categorical_vectorization(X_train['Foundation'],X_test['Foundation'])\n",
        "std_train_58 ,std_test_58 = categorical_vectorization(X_train['BsmtQual'],X_test['BsmtQual'])\n",
        "std_train_59 ,std_test_59 = categorical_vectorization(X_train['BsmtCond'],X_test['BsmtCond'])\n",
        "std_train_60 ,std_test_60 = categorical_vectorization(X_train['BsmtExposure'],X_test['BsmtExposure'])\n",
        "std_train_61 ,std_test_61 = categorical_vectorization(X_train['BsmtFinType1'],X_test['BsmtFinType1'])\n",
        "std_train_62 ,std_test_62 = categorical_vectorization(X_train['BsmtFinType2'],X_test['BsmtFinType2'])\n",
        "std_train_63 ,std_test_63 = categorical_vectorization(X_train['Heating'],X_test['Heating'])\n",
        "std_train_64 ,std_test_64 = categorical_vectorization(X_train['HeatingQC'],X_test['HeatingQC'])\n",
        "std_train_65 ,std_test_65 = categorical_vectorization(X_train['CentralAir'],X_test['CentralAir'])\n",
        "std_train_66 ,std_test_66 = categorical_vectorization(X_train['Electrical'],X_test['Electrical'])\n",
        "std_train_67 ,std_test_67 = categorical_vectorization(X_train['KitchenQual'],X_test['KitchenQual'])\n",
        "std_train_68 ,std_test_68 = categorical_vectorization(X_train['Functional'],X_test['Functional'])\n",
        "std_train_69 ,std_test_69 = categorical_vectorization(X_train['FireplaceQu'],X_test['FireplaceQu'])\n",
        "std_train_70 ,std_test_70 = categorical_vectorization(X_train['GarageType'],X_test['GarageType'])\n",
        "std_train_71 ,std_test_71 = categorical_vectorization(X_train['GarageFinish'],X_test['GarageFinish'])\n",
        "std_train_72 ,std_test_72 = categorical_vectorization(X_train['GarageQual'],X_test['GarageQual'])\n",
        "std_train_73 ,std_test_73 = categorical_vectorization(X_train['GarageCond'],X_test['GarageCond'])\n",
        "std_train_74 ,std_test_74 = categorical_vectorization(X_train['PavedDrive'],X_test['PavedDrive'])\n",
        "std_train_75 ,std_test_75 = categorical_vectorization(X_train['PoolQC'],X_test['PoolQC'])\n",
        "std_train_76 ,std_test_76 = categorical_vectorization(X_train['Fence'],X_test['Fence'])\n",
        "std_train_77 ,std_test_77 = categorical_vectorization(X_train['MiscFeature'],X_test['MiscFeature'])\n",
        "std_train_78 ,std_test_78 = categorical_vectorization(X_train['SaleType'],X_test['SaleType'])\n",
        "std_train_79 ,std_test_79 = categorical_vectorization(X_train['SaleCondition'],X_test['SaleCondition'])\n",
        "std_train_79.shape,std_test_79.shape"
      ],
      "execution_count": 0,
      "outputs": []
    },
    {
      "cell_type": "code",
      "metadata": {
        "id": "0ZELfROCpdNQ",
        "colab_type": "code",
        "colab": {}
      },
      "source": [
        "# merge two sparse matrices: https://stackoverflow.com/a/19710648/4084039\n",
        "from scipy.sparse import hstack\n",
        "\n",
        "X_tr = hstack((std_train_1,std_train_2,std_train_3,std_train_4,std_train_5,std_train_6,std_train_7,std_train_8,std_train_9,std_train_10,std_train_11,std_train_12,std_train_13,std_train_14,std_train_15,std_train_16,std_train_17,std_train_18,std_train_19,std_train_20,std_train_21,std_train_22,std_train_23,std_train_24,std_train_25,std_train_26,std_train_27,std_train_28,std_train_29,std_train_30,std_train_31,std_train_32,std_train_33,std_train_34,std_train_35,std_train_36,std_train_37,std_train_38,std_train_39,std_train_40,std_train_41,std_train_42,std_train_43,std_train_44,std_train_45,std_train_46,std_train_47,std_train_48,std_train_49,std_train_50,std_train_51,std_train_52,std_train_53,std_train_54,std_train_55,std_train_56,std_train_57,std_train_58,std_train_59,std_train_60,std_train_61,std_train_62,std_train_63,std_train_64,std_train_65,std_train_66,std_train_67,std_train_68,std_train_69,std_train_70,std_train_71,std_train_72,std_train_73,std_train_74,std_train_75,std_train_76,std_train_77,std_train_78,std_train_79)).tocsr()\n",
        "X_te = hstack((std_test_1,std_test_2,std_test_3,std_test_4,std_test_5,std_test_6,std_test_7,std_test_8,std_test_9,std_test_10,std_test_11,std_test_12,std_test_13,std_test_14,std_test_15,std_test_16,std_test_17,std_test_18,std_test_19,std_test_20,std_test_21,std_test_22,std_test_23,std_test_24,std_test_25,std_test_26,std_test_27,std_test_28,std_test_29,std_test_30,std_test_31,std_test_32,std_test_33,std_test_34,std_test_35,std_test_36,std_test_37,std_test_38,std_test_39,std_test_40,std_test_41,std_test_42,std_test_43,std_test_44,std_test_45,std_test_46,std_test_47,std_test_48,std_test_49,std_test_50,std_test_51,std_test_52,std_test_53,std_test_54,std_test_55,std_test_56,std_test_57,std_test_58,std_test_59,std_test_60,std_test_61,std_test_62,std_test_63,std_test_64,std_test_65,std_test_66,std_test_67,std_test_68,std_test_69,std_test_70,std_test_71,std_test_72,std_test_73,std_test_74,std_test_75,std_test_76,std_test_77,std_test_78,std_test_79)).tocsr()"
      ],
      "execution_count": 0,
      "outputs": []
    },
    {
      "cell_type": "code",
      "metadata": {
        "id": "nw6mJMKHpf8P",
        "colab_type": "code",
        "colab": {}
      },
      "source": [
        "print(\"Final Data matrix\")\n",
        "print(X_tr.shape, y_train.shape)\n",
        "print(X_te.shape)"
      ],
      "execution_count": 0,
      "outputs": []
    },
    {
      "cell_type": "code",
      "metadata": {
        "id": "qqMO8hpDpisQ",
        "colab_type": "code",
        "colab": {}
      },
      "source": [
        "from sklearn import linear_model\n",
        "from sklearn import ensemble\n",
        "lr = linear_model.LinearRegression()\n",
        "model = lr.fit(X_tr, y_train)"
      ],
      "execution_count": 0,
      "outputs": []
    },
    {
      "cell_type": "code",
      "metadata": {
        "id": "tim4gNErpvWO",
        "colab_type": "code",
        "colab": {}
      },
      "source": [
        "print (\"R^2 is: \\n\", model.score(X_te, y_test))\n",
        "predictions = model.predict(X_te)"
      ],
      "execution_count": 0,
      "outputs": []
    },
    {
      "cell_type": "code",
      "metadata": {
        "id": "f3roD0R2pzyT",
        "colab_type": "code",
        "colab": {}
      },
      "source": [
        "from sklearn.metrics import mean_squared_error\n",
        "print ('RMSE is: \\n', mean_squared_error(y_test, predictions))"
      ],
      "execution_count": 0,
      "outputs": []
    },
    {
      "cell_type": "code",
      "metadata": {
        "id": "v5l5JGq0p2fW",
        "colab_type": "code",
        "colab": {}
      },
      "source": [
        "actual_values = y_test\n",
        "plt.scatter(predictions, actual_values, alpha=.75,\n",
        "            color='g') #alpha helps to show overlapping data\n",
        "plt.xlabel('Predicted Price')\n",
        "plt.ylabel('Actual Price')\n",
        "plt.title('LinearRegression Model')"
      ],
      "execution_count": 0,
      "outputs": []
    },
    {
      "cell_type": "code",
      "metadata": {
        "id": "WWL27JaxqHtu",
        "colab_type": "code",
        "colab": {}
      },
      "source": [
        "from prettytable import PrettyTable\n",
        "ptable = PrettyTable()\n",
        "ptable.field_names=[\"Model Name\",\"Loss\"]\n",
        "ptable.add_row([\"Logistic Regression\",\"0.01892\"])\n",
        "print(ptable)\n",
        "print()"
      ],
      "execution_count": 0,
      "outputs": []
    }
  ]
}